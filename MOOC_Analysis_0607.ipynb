{
 "cells": [
  {
   "cell_type": "code",
   "execution_count": 1,
   "metadata": {},
   "outputs": [],
   "source": [
    "import numpy as np\n",
    "import pandas as pd\n",
    "import copy\n",
    "import csv\n",
    "\n",
    "from datetime import datetime\n",
    "import matplotlib.pyplot as plt\n",
    "%matplotlib inline"
   ]
  },
  {
   "cell_type": "code",
   "execution_count": 2,
   "metadata": {},
   "outputs": [],
   "source": [
    "def CheckTheRunningTime(): \n",
    "    print(\"Current Time =\", datetime.now().strftime(\"%H:%M:%S\"))"
   ]
  },
  {
   "cell_type": "code",
   "execution_count": null,
   "metadata": {},
   "outputs": [],
   "source": []
  },
  {
   "cell_type": "code",
   "execution_count": 3,
   "metadata": {},
   "outputs": [
    {
     "name": "stdout",
     "output_type": "stream",
     "text": [
      "Data size:  (411749, 5)\n",
      "# of users:  7047\n",
      "# of items:  97\n",
      "# of timestamps:  345600\n"
     ]
    },
    {
     "data": {
      "text/html": [
       "<div>\n",
       "<style scoped>\n",
       "    .dataframe tbody tr th:only-of-type {\n",
       "        vertical-align: middle;\n",
       "    }\n",
       "\n",
       "    .dataframe tbody tr th {\n",
       "        vertical-align: top;\n",
       "    }\n",
       "\n",
       "    .dataframe thead th {\n",
       "        text-align: right;\n",
       "    }\n",
       "</style>\n",
       "<table border=\"1\" class=\"dataframe\">\n",
       "  <thead>\n",
       "    <tr style=\"text-align: right;\">\n",
       "      <th></th>\n",
       "      <th></th>\n",
       "      <th></th>\n",
       "      <th>state_label</th>\n",
       "      <th>feat_0</th>\n",
       "      <th>feat_1</th>\n",
       "      <th>feat_2</th>\n",
       "      <th>feat_3</th>\n",
       "    </tr>\n",
       "    <tr>\n",
       "      <th>user_id</th>\n",
       "      <th>item_id</th>\n",
       "      <th>timestamp</th>\n",
       "      <th></th>\n",
       "      <th></th>\n",
       "      <th></th>\n",
       "      <th></th>\n",
       "      <th></th>\n",
       "    </tr>\n",
       "  </thead>\n",
       "  <tbody>\n",
       "    <tr>\n",
       "      <th rowspan=\"5\" valign=\"top\">0</th>\n",
       "      <th>0</th>\n",
       "      <th>0.0</th>\n",
       "      <td>0</td>\n",
       "      <td>-0.319991</td>\n",
       "      <td>-0.435701</td>\n",
       "      <td>0.106784</td>\n",
       "      <td>-0.067309</td>\n",
       "    </tr>\n",
       "    <tr>\n",
       "      <th>1</th>\n",
       "      <th>6.0</th>\n",
       "      <td>0</td>\n",
       "      <td>-0.319991</td>\n",
       "      <td>-0.435701</td>\n",
       "      <td>0.106784</td>\n",
       "      <td>-0.067309</td>\n",
       "    </tr>\n",
       "    <tr>\n",
       "      <th>2</th>\n",
       "      <th>41.0</th>\n",
       "      <td>0</td>\n",
       "      <td>-0.319991</td>\n",
       "      <td>-0.435701</td>\n",
       "      <td>0.106784</td>\n",
       "      <td>-0.067309</td>\n",
       "    </tr>\n",
       "    <tr>\n",
       "      <th>1</th>\n",
       "      <th>49.0</th>\n",
       "      <td>0</td>\n",
       "      <td>-0.319991</td>\n",
       "      <td>-0.435701</td>\n",
       "      <td>0.106784</td>\n",
       "      <td>-0.067309</td>\n",
       "    </tr>\n",
       "    <tr>\n",
       "      <th>2</th>\n",
       "      <th>51.0</th>\n",
       "      <td>0</td>\n",
       "      <td>-0.319991</td>\n",
       "      <td>-0.435701</td>\n",
       "      <td>0.106784</td>\n",
       "      <td>-0.067309</td>\n",
       "    </tr>\n",
       "  </tbody>\n",
       "</table>\n",
       "</div>"
      ],
      "text/plain": [
       "                           state_label    feat_0    feat_1    feat_2    feat_3\n",
       "user_id item_id timestamp                                                     \n",
       "0       0       0.0                  0 -0.319991 -0.435701  0.106784 -0.067309\n",
       "        1       6.0                  0 -0.319991 -0.435701  0.106784 -0.067309\n",
       "        2       41.0                 0 -0.319991 -0.435701  0.106784 -0.067309\n",
       "        1       49.0                 0 -0.319991 -0.435701  0.106784 -0.067309\n",
       "        2       51.0                 0 -0.319991 -0.435701  0.106784 -0.067309"
      ]
     },
     "execution_count": 3,
     "metadata": {},
     "output_type": "execute_result"
    }
   ],
   "source": [
    "### Load the MOOC data from JODIE\n",
    "mooc_df = pd.read_csv('../data/mooc.csv')\n",
    "feat_list = ['feat_' + str(i) for i in range(4)]\n",
    "index_list = ['user_id', 'item_id', 'timestamp']\n",
    "\n",
    "mooc_df.columns = ['state_label'] + feat_list\n",
    "mooc_df.index.names = index_list\n",
    "print('Data size: ' , np.shape(mooc_df))\n",
    "\n",
    "# Check the stats of data\n",
    "print('# of users: ', len(mooc_df.index.unique(level='user_id')))\n",
    "print('# of items: ', len(mooc_df.index.unique(level='item_id')))\n",
    "print('# of timestamps: ', len(mooc_df.index.unique(level='timestamp')))\n",
    "\n",
    "mooc_df.head()"
   ]
  },
  {
   "cell_type": "code",
   "execution_count": 4,
   "metadata": {
    "scrolled": false
   },
   "outputs": [
    {
     "data": {
      "text/html": [
       "<div>\n",
       "<style scoped>\n",
       "    .dataframe tbody tr th:only-of-type {\n",
       "        vertical-align: middle;\n",
       "    }\n",
       "\n",
       "    .dataframe tbody tr th {\n",
       "        vertical-align: top;\n",
       "    }\n",
       "\n",
       "    .dataframe thead th {\n",
       "        text-align: right;\n",
       "    }\n",
       "</style>\n",
       "<table border=\"1\" class=\"dataframe\">\n",
       "  <thead>\n",
       "    <tr style=\"text-align: right;\">\n",
       "      <th></th>\n",
       "      <th></th>\n",
       "      <th></th>\n",
       "      <th>state_label</th>\n",
       "      <th>feat_0</th>\n",
       "      <th>feat_1</th>\n",
       "      <th>feat_2</th>\n",
       "      <th>feat_3</th>\n",
       "    </tr>\n",
       "    <tr>\n",
       "      <th>user_id</th>\n",
       "      <th>item_id</th>\n",
       "      <th>timestamp</th>\n",
       "      <th></th>\n",
       "      <th></th>\n",
       "      <th></th>\n",
       "      <th></th>\n",
       "      <th></th>\n",
       "    </tr>\n",
       "  </thead>\n",
       "  <tbody>\n",
       "    <tr>\n",
       "      <th rowspan=\"12\" valign=\"top\">46</th>\n",
       "      <th>1</th>\n",
       "      <th>62918.0</th>\n",
       "      <td>0</td>\n",
       "      <td>-0.319991</td>\n",
       "      <td>-0.435701</td>\n",
       "      <td>1.108826</td>\n",
       "      <td>3.545219</td>\n",
       "    </tr>\n",
       "    <tr>\n",
       "      <th rowspan=\"2\" valign=\"top\">3</th>\n",
       "      <th>62948.0</th>\n",
       "      <td>0</td>\n",
       "      <td>-0.319991</td>\n",
       "      <td>-0.435701</td>\n",
       "      <td>0.106784</td>\n",
       "      <td>-0.067309</td>\n",
       "    </tr>\n",
       "    <tr>\n",
       "      <th>63301.0</th>\n",
       "      <td>0</td>\n",
       "      <td>-0.319991</td>\n",
       "      <td>-0.435701</td>\n",
       "      <td>0.106784</td>\n",
       "      <td>-0.067309</td>\n",
       "    </tr>\n",
       "    <tr>\n",
       "      <th>8</th>\n",
       "      <th>63745.0</th>\n",
       "      <td>0</td>\n",
       "      <td>-0.319991</td>\n",
       "      <td>-0.435701</td>\n",
       "      <td>0.106784</td>\n",
       "      <td>-0.067309</td>\n",
       "    </tr>\n",
       "    <tr>\n",
       "      <th>3</th>\n",
       "      <th>63760.0</th>\n",
       "      <td>0</td>\n",
       "      <td>-0.319991</td>\n",
       "      <td>-0.435701</td>\n",
       "      <td>0.106784</td>\n",
       "      <td>-0.067309</td>\n",
       "    </tr>\n",
       "    <tr>\n",
       "      <th>5</th>\n",
       "      <th>64474.0</th>\n",
       "      <td>0</td>\n",
       "      <td>-0.319991</td>\n",
       "      <td>-0.435701</td>\n",
       "      <td>0.106784</td>\n",
       "      <td>-0.067309</td>\n",
       "    </tr>\n",
       "    <tr>\n",
       "      <th>4</th>\n",
       "      <th>64477.0</th>\n",
       "      <td>0</td>\n",
       "      <td>-0.319991</td>\n",
       "      <td>-0.435701</td>\n",
       "      <td>0.106784</td>\n",
       "      <td>-0.067309</td>\n",
       "    </tr>\n",
       "    <tr>\n",
       "      <th>5</th>\n",
       "      <th>64478.0</th>\n",
       "      <td>0</td>\n",
       "      <td>-0.319991</td>\n",
       "      <td>-0.435701</td>\n",
       "      <td>0.106784</td>\n",
       "      <td>-0.067309</td>\n",
       "    </tr>\n",
       "    <tr>\n",
       "      <th rowspan=\"2\" valign=\"top\">4</th>\n",
       "      <th>64487.0</th>\n",
       "      <td>0</td>\n",
       "      <td>-0.319991</td>\n",
       "      <td>-0.435701</td>\n",
       "      <td>0.106784</td>\n",
       "      <td>-0.067309</td>\n",
       "    </tr>\n",
       "    <tr>\n",
       "      <th>64936.0</th>\n",
       "      <td>0</td>\n",
       "      <td>-0.319991</td>\n",
       "      <td>-0.435701</td>\n",
       "      <td>0.106784</td>\n",
       "      <td>-0.067309</td>\n",
       "    </tr>\n",
       "    <tr>\n",
       "      <th>15</th>\n",
       "      <th>64936.0</th>\n",
       "      <td>0</td>\n",
       "      <td>-0.319991</td>\n",
       "      <td>2.108722</td>\n",
       "      <td>-0.394237</td>\n",
       "      <td>-0.067309</td>\n",
       "    </tr>\n",
       "    <tr>\n",
       "      <th>5</th>\n",
       "      <th>65572.0</th>\n",
       "      <td>1</td>\n",
       "      <td>-0.319991</td>\n",
       "      <td>-0.435701</td>\n",
       "      <td>0.106784</td>\n",
       "      <td>-0.067309</td>\n",
       "    </tr>\n",
       "  </tbody>\n",
       "</table>\n",
       "</div>"
      ],
      "text/plain": [
       "                           state_label    feat_0    feat_1    feat_2    feat_3\n",
       "user_id item_id timestamp                                                     \n",
       "46      1       62918.0              0 -0.319991 -0.435701  1.108826  3.545219\n",
       "        3       62948.0              0 -0.319991 -0.435701  0.106784 -0.067309\n",
       "                63301.0              0 -0.319991 -0.435701  0.106784 -0.067309\n",
       "        8       63745.0              0 -0.319991 -0.435701  0.106784 -0.067309\n",
       "        3       63760.0              0 -0.319991 -0.435701  0.106784 -0.067309\n",
       "        5       64474.0              0 -0.319991 -0.435701  0.106784 -0.067309\n",
       "        4       64477.0              0 -0.319991 -0.435701  0.106784 -0.067309\n",
       "        5       64478.0              0 -0.319991 -0.435701  0.106784 -0.067309\n",
       "        4       64487.0              0 -0.319991 -0.435701  0.106784 -0.067309\n",
       "                64936.0              0 -0.319991 -0.435701  0.106784 -0.067309\n",
       "        15      64936.0              0 -0.319991  2.108722 -0.394237 -0.067309\n",
       "        5       65572.0              1 -0.319991 -0.435701  0.106784 -0.067309"
      ]
     },
     "execution_count": 4,
     "metadata": {},
     "output_type": "execute_result"
    }
   ],
   "source": [
    "# A positive (drop-out) example \n",
    "tmp_posId = 46\n",
    "tmp_df = mooc_df.loc[pd.IndexSlice[[tmp_posId],:,:]]\n",
    "tmp_df"
   ]
  },
  {
   "cell_type": "code",
   "execution_count": null,
   "metadata": {},
   "outputs": [],
   "source": []
  },
  {
   "cell_type": "markdown",
   "metadata": {},
   "source": [
    "### Generate the states and actions from data"
   ]
  },
  {
   "cell_type": "code",
   "execution_count": 5,
   "metadata": {},
   "outputs": [],
   "source": [
    "# CheckTheRunningTime()"
   ]
  },
  {
   "cell_type": "code",
   "execution_count": 6,
   "metadata": {},
   "outputs": [
    {
     "name": "stdout",
     "output_type": "stream",
     "text": [
      "# of unique states:  858\n"
     ]
    }
   ],
   "source": [
    "### Convert features to discrete states \n",
    "unique_state_feat = np.array(mooc_df[feat_list].drop_duplicates())\n",
    "print('# of unique states: ', len(unique_state_feat))\n",
    "\n",
    "# Dictionary from states to features\n",
    "# state_feat_dict = {i:list(unique_state_feat[i]) for i in range(len(unique_state_feat))}\n",
    "state_feat_dict = {', '.join(map(str, list(unique_state_feat[i]))):i for i in range(len(unique_state_feat))}\n",
    "\n",
    "# Descretize each feature\n",
    "for feat in feat_list: \n",
    "    tmp_feat_unique = np.unique(mooc_df[feat])\n",
    "    tmp_feat_dict = {tmp_feat_unique[i]:i for i in range(len(tmp_feat_unique))} \n",
    "    mooc_df[feat+'_d'] = mooc_df[feat].apply(lambda x: tmp_feat_dict[x])\n",
    "    \n",
    "# Get the dictionary from discrete features to indexes\n",
    "feat_d_list = [feat_list[i]+'_d' for i in range(len(feat_list))]\n",
    "unique_d_feat = np.array(mooc_df[feat_d_list].drop_duplicates())\n",
    "state_feat_dict = {', '.join(map(str, unique_d_feat[i])):i for i in range(len(unique_d_feat))}\n",
    "\n",
    "# Convert the features to state indexes\n",
    "state_array = np.zeros([len(mooc_df)])\n",
    "\n",
    "for tmp_feat in unique_d_feat: #[tmp_start:tmp_start+1]: \n",
    "    tmpIdx = [idx for idx, val in enumerate(np.array(mooc_df[feat_d_list])) if (val == tmp_feat).all()]\n",
    "    tmpState = state_feat_dict[', '.join(map(str, tmp_feat))]\n",
    "    state_array[tmpIdx] = tmpState\n",
    "    \n",
    "mooc_df['state_idx'] = state_array"
   ]
  },
  {
   "cell_type": "code",
   "execution_count": 7,
   "metadata": {},
   "outputs": [],
   "source": [
    "# CheckTheRunningTime()"
   ]
  },
  {
   "cell_type": "code",
   "execution_count": 8,
   "metadata": {},
   "outputs": [
    {
     "name": "stdout",
     "output_type": "stream",
     "text": [
      "Unique # of actions:  (array([0, 1, 2, 3]), array([ 60866,  21381, 132412, 197090], dtype=int64))\n"
     ]
    }
   ],
   "source": [
    "### Generate the actions\n",
    "mooc_sa_df = copy.deepcopy(mooc_df)\n",
    "mooc_sa_df.reset_index(inplace=True) \n",
    "\n",
    "# Check the adjacent difference of states and items\n",
    "mooc_sa_df['state_diff'] = mooc_sa_df.groupby('user_id')['state_idx'].diff().fillna(0).tolist()\n",
    "mooc_sa_df['item_diff'] = mooc_sa_df.groupby('user_id')['item_id'].diff().fillna(0).tolist()\n",
    "\n",
    "# Convert the difference to boolean\n",
    "state_diff_flag = [diff != 0 for diff in mooc_sa_df['state_diff'].tolist()]\n",
    "item_diff_flag = [diff != 0 for diff in mooc_sa_df['item_diff'].tolist()]\n",
    "\n",
    "# Generate the actions\n",
    "# 0: Both state and item keep the same\n",
    "# 1: Item keeps the same while state changes\n",
    "# 2: State keeps the same while item changes\n",
    "# 3: Both state and item changes\n",
    "action_list = [item_diff_flag[i]*2 + state_diff_flag[i]*1 for i in range(len(state_diff_flag))]\n",
    "mooc_sa_df['action'] = action_list\n",
    "\n",
    "# Check the unique numbers for actions\n",
    "print('Unique # of actions: ', np.unique(action_list, return_counts=True))\n",
    "\n",
    "# Get the state-action pairs\n",
    "mooc_sa_df.state_idx = mooc_sa_df.state_idx.astype(int)\n",
    "mooc_sa_df.action = mooc_sa_df.action.astype(int)\n",
    "mooc_sa_df['SA'] = mooc_sa_df.groupby('user_id').apply(\n",
    "    lambda x: pd.Series([tuple(i) for i in x[['state_idx', 'action']].values])).tolist()\n",
    "\n",
    "# Slice the columns\n",
    "sel_col = index_list + ['state_label'] + feat_list + ['state_idx', 'action', 'SA']\n",
    "mooc_sa_df = mooc_sa_df[sel_col]"
   ]
  },
  {
   "cell_type": "code",
   "execution_count": 9,
   "metadata": {
    "scrolled": true
   },
   "outputs": [
    {
     "data": {
      "text/html": [
       "<div>\n",
       "<style scoped>\n",
       "    .dataframe tbody tr th:only-of-type {\n",
       "        vertical-align: middle;\n",
       "    }\n",
       "\n",
       "    .dataframe tbody tr th {\n",
       "        vertical-align: top;\n",
       "    }\n",
       "\n",
       "    .dataframe thead th {\n",
       "        text-align: right;\n",
       "    }\n",
       "</style>\n",
       "<table border=\"1\" class=\"dataframe\">\n",
       "  <thead>\n",
       "    <tr style=\"text-align: right;\">\n",
       "      <th></th>\n",
       "      <th>user_id</th>\n",
       "      <th>item_id</th>\n",
       "      <th>timestamp</th>\n",
       "      <th>state_label</th>\n",
       "      <th>feat_0</th>\n",
       "      <th>feat_1</th>\n",
       "      <th>feat_2</th>\n",
       "      <th>feat_3</th>\n",
       "      <th>state_idx</th>\n",
       "      <th>action</th>\n",
       "      <th>SA</th>\n",
       "    </tr>\n",
       "  </thead>\n",
       "  <tbody>\n",
       "    <tr>\n",
       "      <th>0</th>\n",
       "      <td>0</td>\n",
       "      <td>0</td>\n",
       "      <td>0.0</td>\n",
       "      <td>0</td>\n",
       "      <td>-0.319991</td>\n",
       "      <td>-0.435701</td>\n",
       "      <td>0.106784</td>\n",
       "      <td>-0.067309</td>\n",
       "      <td>0</td>\n",
       "      <td>0</td>\n",
       "      <td>(0, 0)</td>\n",
       "    </tr>\n",
       "    <tr>\n",
       "      <th>1</th>\n",
       "      <td>0</td>\n",
       "      <td>1</td>\n",
       "      <td>6.0</td>\n",
       "      <td>0</td>\n",
       "      <td>-0.319991</td>\n",
       "      <td>-0.435701</td>\n",
       "      <td>0.106784</td>\n",
       "      <td>-0.067309</td>\n",
       "      <td>0</td>\n",
       "      <td>2</td>\n",
       "      <td>(0, 2)</td>\n",
       "    </tr>\n",
       "    <tr>\n",
       "      <th>2</th>\n",
       "      <td>0</td>\n",
       "      <td>2</td>\n",
       "      <td>41.0</td>\n",
       "      <td>0</td>\n",
       "      <td>-0.319991</td>\n",
       "      <td>-0.435701</td>\n",
       "      <td>0.106784</td>\n",
       "      <td>-0.067309</td>\n",
       "      <td>0</td>\n",
       "      <td>2</td>\n",
       "      <td>(0, 2)</td>\n",
       "    </tr>\n",
       "    <tr>\n",
       "      <th>3</th>\n",
       "      <td>0</td>\n",
       "      <td>1</td>\n",
       "      <td>49.0</td>\n",
       "      <td>0</td>\n",
       "      <td>-0.319991</td>\n",
       "      <td>-0.435701</td>\n",
       "      <td>0.106784</td>\n",
       "      <td>-0.067309</td>\n",
       "      <td>0</td>\n",
       "      <td>2</td>\n",
       "      <td>(0, 2)</td>\n",
       "    </tr>\n",
       "    <tr>\n",
       "      <th>4</th>\n",
       "      <td>0</td>\n",
       "      <td>2</td>\n",
       "      <td>51.0</td>\n",
       "      <td>0</td>\n",
       "      <td>-0.319991</td>\n",
       "      <td>-0.435701</td>\n",
       "      <td>0.106784</td>\n",
       "      <td>-0.067309</td>\n",
       "      <td>0</td>\n",
       "      <td>2</td>\n",
       "      <td>(0, 2)</td>\n",
       "    </tr>\n",
       "    <tr>\n",
       "      <th>...</th>\n",
       "      <td>...</td>\n",
       "      <td>...</td>\n",
       "      <td>...</td>\n",
       "      <td>...</td>\n",
       "      <td>...</td>\n",
       "      <td>...</td>\n",
       "      <td>...</td>\n",
       "      <td>...</td>\n",
       "      <td>...</td>\n",
       "      <td>...</td>\n",
       "      <td>...</td>\n",
       "    </tr>\n",
       "    <tr>\n",
       "      <th>95</th>\n",
       "      <td>17</td>\n",
       "      <td>10</td>\n",
       "      <td>39258.0</td>\n",
       "      <td>0</td>\n",
       "      <td>-0.319991</td>\n",
       "      <td>-0.435701</td>\n",
       "      <td>0.106784</td>\n",
       "      <td>-0.067309</td>\n",
       "      <td>0</td>\n",
       "      <td>2</td>\n",
       "      <td>(0, 3)</td>\n",
       "    </tr>\n",
       "    <tr>\n",
       "      <th>96</th>\n",
       "      <td>18</td>\n",
       "      <td>3</td>\n",
       "      <td>39273.0</td>\n",
       "      <td>0</td>\n",
       "      <td>-0.319991</td>\n",
       "      <td>-0.435701</td>\n",
       "      <td>0.106784</td>\n",
       "      <td>-0.067309</td>\n",
       "      <td>0</td>\n",
       "      <td>2</td>\n",
       "      <td>(9, 3)</td>\n",
       "    </tr>\n",
       "    <tr>\n",
       "      <th>97</th>\n",
       "      <td>19</td>\n",
       "      <td>1</td>\n",
       "      <td>39304.0</td>\n",
       "      <td>0</td>\n",
       "      <td>-0.319991</td>\n",
       "      <td>-0.435701</td>\n",
       "      <td>0.106784</td>\n",
       "      <td>-0.067309</td>\n",
       "      <td>0</td>\n",
       "      <td>0</td>\n",
       "      <td>(9, 2)</td>\n",
       "    </tr>\n",
       "    <tr>\n",
       "      <th>98</th>\n",
       "      <td>19</td>\n",
       "      <td>2</td>\n",
       "      <td>39313.0</td>\n",
       "      <td>0</td>\n",
       "      <td>-0.319991</td>\n",
       "      <td>-0.435701</td>\n",
       "      <td>0.106784</td>\n",
       "      <td>-0.067309</td>\n",
       "      <td>0</td>\n",
       "      <td>2</td>\n",
       "      <td>(0, 3)</td>\n",
       "    </tr>\n",
       "    <tr>\n",
       "      <th>99</th>\n",
       "      <td>19</td>\n",
       "      <td>3</td>\n",
       "      <td>39319.0</td>\n",
       "      <td>0</td>\n",
       "      <td>-0.319991</td>\n",
       "      <td>-0.435701</td>\n",
       "      <td>0.106784</td>\n",
       "      <td>-0.067309</td>\n",
       "      <td>0</td>\n",
       "      <td>2</td>\n",
       "      <td>(0, 2)</td>\n",
       "    </tr>\n",
       "  </tbody>\n",
       "</table>\n",
       "<p>100 rows × 11 columns</p>\n",
       "</div>"
      ],
      "text/plain": [
       "    user_id  item_id  timestamp  state_label    feat_0    feat_1    feat_2  \\\n",
       "0         0        0        0.0            0 -0.319991 -0.435701  0.106784   \n",
       "1         0        1        6.0            0 -0.319991 -0.435701  0.106784   \n",
       "2         0        2       41.0            0 -0.319991 -0.435701  0.106784   \n",
       "3         0        1       49.0            0 -0.319991 -0.435701  0.106784   \n",
       "4         0        2       51.0            0 -0.319991 -0.435701  0.106784   \n",
       "..      ...      ...        ...          ...       ...       ...       ...   \n",
       "95       17       10    39258.0            0 -0.319991 -0.435701  0.106784   \n",
       "96       18        3    39273.0            0 -0.319991 -0.435701  0.106784   \n",
       "97       19        1    39304.0            0 -0.319991 -0.435701  0.106784   \n",
       "98       19        2    39313.0            0 -0.319991 -0.435701  0.106784   \n",
       "99       19        3    39319.0            0 -0.319991 -0.435701  0.106784   \n",
       "\n",
       "      feat_3  state_idx  action      SA  \n",
       "0  -0.067309          0       0  (0, 0)  \n",
       "1  -0.067309          0       2  (0, 2)  \n",
       "2  -0.067309          0       2  (0, 2)  \n",
       "3  -0.067309          0       2  (0, 2)  \n",
       "4  -0.067309          0       2  (0, 2)  \n",
       "..       ...        ...     ...     ...  \n",
       "95 -0.067309          0       2  (0, 3)  \n",
       "96 -0.067309          0       2  (9, 3)  \n",
       "97 -0.067309          0       0  (9, 2)  \n",
       "98 -0.067309          0       2  (0, 3)  \n",
       "99 -0.067309          0       2  (0, 2)  \n",
       "\n",
       "[100 rows x 11 columns]"
      ]
     },
     "execution_count": 9,
     "metadata": {},
     "output_type": "execute_result"
    }
   ],
   "source": [
    "mooc_sa_df[:100]"
   ]
  },
  {
   "cell_type": "code",
   "execution_count": null,
   "metadata": {},
   "outputs": [],
   "source": []
  },
  {
   "cell_type": "markdown",
   "metadata": {},
   "source": [
    "### Split the data for training, validation, and testing"
   ]
  },
  {
   "cell_type": "code",
   "execution_count": 10,
   "metadata": {},
   "outputs": [],
   "source": [
    "def GetTrajbyIdxfromDf(df, idx): \n",
    "    return np.array(df.loc[df.user_id.isin(idx)].groupby('user_id').apply(lambda x: np.array([np.nan] + [list(x['SA'])])))"
   ]
  },
  {
   "cell_type": "code",
   "execution_count": 11,
   "metadata": {
    "scrolled": true
   },
   "outputs": [
    {
     "name": "stdout",
     "output_type": "stream",
     "text": [
      "Perc of drop-out students:  0.5769831133815808\n",
      "Perc of positive iteractions:  0.009874948087305616\n",
      "\n",
      "The # of training, validation, and testing data:  5637 705 705\n"
     ]
    }
   ],
   "source": [
    "### Reformulate the data for modeling\n",
    "# Check the labels\n",
    "all_labs = mooc_sa_df.groupby('user_id').apply(lambda x: x['state_label'].tolist()[-1]).tolist()\n",
    "print('Perc of drop-out students: ', all_labs.count(1) / len(all_labs))\n",
    "print('Perc of positive iteractions: ', mooc_sa_df['state_label'].tolist().count(1) / len(mooc_sa_df))\n",
    "\n",
    "# Get the userIds\n",
    "all_userId = mooc_df.index.unique(level='user_id')\n",
    "\n",
    "# Split the training, validation, and testing data \n",
    "tr_prec, val_prec, te_prec = 0.8, 0.1, 0.1\n",
    "\n",
    "# Get the indexes\n",
    "tr_idx = np.arange(0, int(len(all_userId) * tr_prec))\n",
    "val_idx = np.arange(int(len(all_userId) * tr_prec), int(len(all_userId) * (tr_prec + val_prec)))\n",
    "te_idx = np.arange(int(len(all_userId) * (tr_prec + val_prec)), len(all_userId))\n",
    "\n",
    "# Slice the trajectoreis\n",
    "tr_traj = GetTrajbyIdxfromDf(mooc_sa_df, tr_idx)\n",
    "val_traj = GetTrajbyIdxfromDf(mooc_sa_df, val_idx)\n",
    "te_traj = GetTrajbyIdxfromDf(mooc_sa_df, te_idx)\n",
    "\n",
    "# Slice the labels\n",
    "tr_lab = [all_labs[idx] for idx in tr_idx]\n",
    "val_lab = [all_labs[idx] for idx in val_idx]\n",
    "te_lab = [all_labs[idx] for idx in te_idx]\n",
    "\n",
    "# Check the number of splitted data\n",
    "print('\\nThe # of training, validation, and testing data: ', len(tr_idx), len(val_idx), len(te_idx))"
   ]
  },
  {
   "cell_type": "code",
   "execution_count": null,
   "metadata": {},
   "outputs": [],
   "source": []
  },
  {
   "cell_type": "markdown",
   "metadata": {},
   "source": [
    "### Learn the rewards by MLIRL"
   ]
  },
  {
   "cell_type": "code",
   "execution_count": 12,
   "metadata": {},
   "outputs": [],
   "source": [
    "from mdp import MDP\n",
    "from MLIRL import MLIRL, DemoWeights"
   ]
  },
  {
   "cell_type": "code",
   "execution_count": 13,
   "metadata": {},
   "outputs": [],
   "source": [
    "# Normalize the transitions\n",
    "def NormTransitions(P, addTurb = False): \n",
    "    norm_P = copy.deepcopy(P)\n",
    "    # Add a small value to each element of P with the probability of 0.1 \n",
    "    for i in range(0, len(P)):\n",
    "        # -------------------------------------------------------------\n",
    "        # Add turbulence to the transitions\n",
    "        if addTurb: \n",
    "            for j in range(0, len(P[i])):\n",
    "                norm_P[i,j] = P[i,j]\n",
    "                random.seed(np.prod(np.shape(P))+i*len(P)+j)\n",
    "                if random.random() < 0.1:\n",
    "                    norm_P[i,j] += random.random()*0.01\n",
    "        # -------------------------------------------------------------\n",
    "        # Normalize the transitions\n",
    "        tmp_sum = np.sum(norm_P[i], axis=1)\n",
    "        tmp_sum[tmp_sum == 0] = 1e-10\n",
    "        norm_P[i] = norm_P[i] / tmp_sum[:, None]\n",
    "    return norm_P"
   ]
  },
  {
   "cell_type": "code",
   "execution_count": 14,
   "metadata": {},
   "outputs": [],
   "source": [
    "# Number of states and actions\n",
    "n_actions = len(np.unique(mooc_sa_df['action']))\n",
    "n_states = len(np.unique(mooc_sa_df['state_idx']))\n",
    "\n",
    "# Estimate the transition probabilities\n",
    "init_trans = np.zeros([n_states, n_actions, n_states])\n",
    "\n",
    "# Check the start and end states\n",
    "nextStates = []\n",
    "for tmpId in all_userId[:1]: \n",
    "    tmpState = mooc_sa_df.loc[mooc_sa_df.user_id == tmpId].state_idx.tolist()\n",
    "    tmpCurState, tmpNextState = tmpState[:-1], tmpState[1:]\n",
    "    tmpAction = mooc_sa_df.loc[mooc_sa_df.user_id == tmpId].action.tolist()[:-1] \n",
    "    for idx in range(len(tmpCurState)): \n",
    "        init_trans[tmpCurState[idx], tmpAction[idx], tmpNextState[idx]] += 1\n",
    "        \n",
    "# Normalize the transitions\n",
    "addTurb_flag = False\n",
    "transitions = NormTransitions(init_trans, addTurb = addTurb_flag)\n",
    "\n",
    "# Set the basic parameters\n",
    "para = {}\n",
    "para['n_states'], para['n_actions'] = n_states, n_actions\n",
    "para['transitions'] = transitions\n",
    "para['baseline_rewards'] = []\n",
    "\n",
    "# States to feats mapping\n",
    "para['reward_pattern'] = 'S'\n",
    "para['feat_map'] = np.eye((para['n_states'])) \n",
    "para['GAMMA'] = 0.85\n",
    "\n",
    "para['MLIRL_ITERS'] = 300\n",
    "para['MLIRL_QLITERS'] = 60\n",
    "para['MLIRL_w'] = 0.5\n",
    "para['MLIRL_clip'] = 0.01\n",
    "para['MLIRL_weight'] = 'ones'\n",
    "para['verbo'] = True"
   ]
  },
  {
   "cell_type": "code",
   "execution_count": 15,
   "metadata": {
    "scrolled": true
   },
   "outputs": [
    {
     "name": "stdout",
     "output_type": "stream",
     "text": [
      "iteration 10: llh = 39186.65260809335\n",
      "-------------------------------------\n",
      "iteration 20: llh = 39698.93029468573\n",
      "-------------------------------------\n",
      "iteration 30: llh = 40183.158054767904\n",
      "-------------------------------------\n",
      "iteration 40: llh = 40629.11253185785\n",
      "-------------------------------------\n",
      "iteration 50: llh = 41029.20938153812\n",
      "-------------------------------------\n",
      "iteration 60: llh = 41379.73365827531\n",
      "-------------------------------------\n",
      "iteration 70: llh = 41680.87443485971\n",
      "-------------------------------------\n",
      "iteration 80: llh = 41935.81787267617\n",
      "-------------------------------------\n",
      "iteration 90: llh = 42149.512181396916\n",
      "-------------------------------------\n",
      "iteration 100: llh = 42327.57716548377\n",
      "-------------------------------------\n",
      "iteration 110: llh = 42475.54770580731\n",
      "-------------------------------------\n",
      "iteration 120: llh = 42598.44953568645\n",
      "-------------------------------------\n",
      "iteration 130: llh = 42700.625148835235\n",
      "-------------------------------------\n",
      "iteration 140: llh = 42785.71495051816\n",
      "-------------------------------------\n",
      "iteration 150: llh = 42856.714984560254\n",
      "-------------------------------------\n",
      "iteration 160: llh = 42915.81637241271\n",
      "-------------------------------------\n",
      "iteration 170: llh = 42964.9292713439\n",
      "-------------------------------------\n",
      "iteration 180: llh = 43005.785298547315\n",
      "-------------------------------------\n",
      "iteration 190: llh = 43039.77919455241\n",
      "-------------------------------------\n",
      "iteration 200: llh = 43068.04050540462\n",
      "-------------------------------------\n",
      "iteration 210: llh = 43091.489682708445\n",
      "-------------------------------------\n",
      "iteration 220: llh = 43110.88141687061\n",
      "-------------------------------------\n",
      "iteration 230: llh = 43126.838158584455\n",
      "-------------------------------------\n",
      "iteration 240: llh = 43139.87616030945\n",
      "-------------------------------------\n",
      "iteration 250: llh = 43150.42582305536\n",
      "-------------------------------------\n",
      "iteration 260: llh = 43158.8476971028\n",
      "-------------------------------------\n",
      "iteration 270: llh = 43165.44515063778\n",
      "-------------------------------------\n",
      "iteration 280: llh = 43170.47446884201\n",
      "-------------------------------------\n",
      "iteration 290: llh = 43174.152958678256\n",
      "-------------------------------------\n",
      "iteration 300: llh = 43176.665495380395\n",
      "-------------------------------------\n"
     ]
    }
   ],
   "source": [
    "# Learn the rewards by MLIRL\n",
    "neg_idx = [idx for idx, val in enumerate(tr_lab) if val == 0] \n",
    "selDemo = np.array([tr_traj[i] for i in neg_idx])\n",
    "\n",
    "w = DemoWeights(selDemo, para)\n",
    "temp_reward, llh = MLIRL(selDemo, w, para)"
   ]
  },
  {
   "cell_type": "code",
   "execution_count": 16,
   "metadata": {},
   "outputs": [
    {
     "data": {
      "text/plain": [
       "[<matplotlib.lines.Line2D at 0x275cf923748>]"
      ]
     },
     "execution_count": 16,
     "metadata": {},
     "output_type": "execute_result"
    },
    {
     "data": {
      "image/png": "[encoded data removed]",
      "text/plain": [
       "<Figure size 432x288 with 1 Axes>"
      ]
     },
     "metadata": {
      "needs_background": "light"
     },
     "output_type": "display_data"
    }
   ],
   "source": [
    "# Check the convergence\n",
    "plt.plot(llh)"
   ]
  },
  {
   "cell_type": "code",
   "execution_count": null,
   "metadata": {},
   "outputs": [],
   "source": []
  },
  {
   "cell_type": "markdown",
   "metadata": {},
   "source": [
    "### Define the normality score"
   ]
  },
  {
   "cell_type": "code",
   "execution_count": 17,
   "metadata": {},
   "outputs": [],
   "source": [
    "def RewardForGivenTrainingDemo(demo, reward): \n",
    "    state_list = [demo[1][i][0] for i in range(len(demo[1]))]\n",
    "    reward_sum = np.sum([reward[i] for i in state_list])\n",
    "    reward_avg = reward_sum / len(state_list)\n",
    "    return reward_sum, reward_avg"
   ]
  },
  {
   "cell_type": "code",
   "execution_count": 18,
   "metadata": {},
   "outputs": [],
   "source": [
    "def CalNormalityScoreForGivenDemo(demo, reward, reward_avg, reward_std): \n",
    "    state_list = [demo[1][i][0] for i in range(len(demo[1]))]\n",
    "    score = sum([(reward[i] - reward_avg) / reward_std for i in state_list]) / len(demo)\n",
    "    return score"
   ]
  },
  {
   "cell_type": "code",
   "execution_count": 19,
   "metadata": {},
   "outputs": [],
   "source": [
    "def CheckNormalityScoreStats(traj, temp_reward, reward_avg, reward_std, verbo = True): \n",
    "    score_list = [CalNormalityScoreForGivenDemo(traj[idx], temp_reward, reward_avg, reward_std) \n",
    "                 for idx in range(len(traj))]\n",
    "    if verbo: \n",
    "        print('Max Score: ', np.max(score_list))\n",
    "        print('Min Score: ', np.min(score_list))\n",
    "        print('Mean Score: ', np.mean(score_list))\n",
    "        print('Median Score: ', np.median(score_list))\n",
    "        print('\\n')\n",
    "    return score_list"
   ]
  },
  {
   "cell_type": "code",
   "execution_count": 20,
   "metadata": {},
   "outputs": [],
   "source": [
    "from sklearn import metrics\n",
    "from sklearn.metrics import confusion_matrix\n",
    "from sklearn.metrics import accuracy_score\n",
    "from sklearn.metrics import recall_score\n",
    "from sklearn.metrics import precision_score\n",
    "from sklearn.metrics import f1_score\n",
    "from sklearn.metrics import roc_curve, auc\n",
    "\n",
    "def ModelEvaluate(real_lab, pre_lab, labels_list, avg_patterns='weighted', verbo=False):\n",
    "    conf_matrix = confusion_matrix(real_lab, pre_lab, labels=labels_list)\n",
    "    acc = accuracy_score(real_lab, pre_lab)\n",
    "    recall = precision_score(real_lab, pre_lab, labels=labels_list, average=avg_patterns)\n",
    "    precision = recall_score(real_lab, pre_lab, labels=labels_list, average=avg_patterns)\n",
    "    fscore = f1_score(real_lab, pre_lab, labels=labels_list, average=avg_patterns)\n",
    "\n",
    "    if verbo:\n",
    "        print('Performance Measurements:')\n",
    "        print('Confusion matrix: \\n', conf_matrix)\n",
    "        print('Accuracy: ', acc)\n",
    "        print('Recall: ', recall)\n",
    "        print('Precision: ', precision)\n",
    "        print('F-score: ', fscore)\n",
    "    return conf_matrix, [acc, recall, precision, fscore]"
   ]
  },
  {
   "cell_type": "markdown",
   "metadata": {},
   "source": [
    "#### Determine the class label by normality score"
   ]
  },
  {
   "cell_type": "code",
   "execution_count": 21,
   "metadata": {},
   "outputs": [],
   "source": [
    "def CheckScoreBasedPredResults(traj, real_lab, temp_reward, reward_avg, reward_std, score_thres, verbo=False): \n",
    "    # Check the normality score\n",
    "    score_list = CheckNormalityScoreStats(traj, temp_reward, reward_avg, reward_std, verbo)\n",
    "    \n",
    "    # Get the predicted label\n",
    "    # Defined by: r - mean(r) / std(r)\n",
    "    pred_lab = [0 if score_list[i] > score_thres else 1 for i in range(len(score_list))]\n",
    "    \n",
    "    # Get the predicted scores\n",
    "    prob_lab = [(i - score_thres) / (max(score_list) - score_thres) for i in score_list]\n",
    "    prob_lab = [1 - (i - min(prob_lab)) / (max(prob_lab) - min(prob_lab)) for i in prob_lab]\n",
    "    \n",
    "    _, _ = ModelEvaluate(real_lab, pred_lab, labels_list = np.arange(2), verbo=True)\n",
    "    te_fpr, te_tpr, thresholds = metrics.roc_curve(real_lab, prob_lab)\n",
    "    te_roc_auc = metrics.auc(te_fpr, te_tpr)\n",
    "#     print('AUC: ', te_roc_auc)"
   ]
  },
  {
   "cell_type": "code",
   "execution_count": 22,
   "metadata": {},
   "outputs": [
    {
     "name": "stdout",
     "output_type": "stream",
     "text": [
      "Average reward in the demos:  2.1833982685311395 ( 0.029180315411514078 )\n"
     ]
    }
   ],
   "source": [
    "# Get the average rewards for all trajectories\n",
    "reward_avg_list = []\n",
    "for idx in range(len(selDemo)): \n",
    "    tmp_demo = selDemo[idx]\n",
    "    tmp_reward_sum, tmp_reward_avg = RewardForGivenTrainingDemo(tmp_demo, temp_reward)\n",
    "    reward_avg_list.append(tmp_reward_avg) \n",
    "reward_avg, reward_std = np.mean(reward_avg_list), np.std(reward_avg_list)\n",
    "\n",
    "print('Average reward in the demos: ', reward_avg, '(', reward_std, ')')"
   ]
  },
  {
   "cell_type": "code",
   "execution_count": 23,
   "metadata": {},
   "outputs": [
    {
     "name": "stdout",
     "output_type": "stream",
     "text": [
      "* Validation: \n",
      "Performance Measurements:\n",
      "Confusion matrix: \n",
      " [[100 150]\n",
      " [103 352]]\n",
      "Accuracy:  0.6411347517730497\n",
      "Recall:  0.6272291263273776\n",
      "Precision:  0.6411347517730497\n",
      "F-score:  0.6313303824345401\n",
      "\n",
      "* Testing: \n",
      "Performance Measurements:\n",
      "Confusion matrix: \n",
      " [[ 97 191]\n",
      " [ 93 324]]\n",
      "Accuracy:  0.5971631205673759\n",
      "Recall:  0.5806768936387654\n",
      "Precision:  0.5971631205673759\n",
      "F-score:  0.5770473188096538\n"
     ]
    }
   ],
   "source": [
    "# Search for a threshold to determine the class labels\n",
    "score_thres = 10\n",
    "print('* Validation: ')\n",
    "CheckScoreBasedPredResults(val_traj, val_lab, temp_reward, reward_avg, reward_std, score_thres)\n",
    "\n",
    "print('\\n* Testing: ')\n",
    "CheckScoreBasedPredResults(te_traj, te_lab, temp_reward, reward_avg, reward_std, score_thres)"
   ]
  },
  {
   "cell_type": "code",
   "execution_count": null,
   "metadata": {},
   "outputs": [],
   "source": []
  },
  {
   "cell_type": "markdown",
   "metadata": {},
   "source": [
    "#### Determine the class label by log-likelihood"
   ]
  },
  {
   "cell_type": "code",
   "execution_count": 24,
   "metadata": {},
   "outputs": [],
   "source": [
    "def NormalizeAList(score, stats = False): \n",
    "    norm_score = [1 - (i - min(score)) / (max(score) - min(score)) for i in score] \n",
    "    if stats: \n",
    "        return norm_score, max(score), min(score)\n",
    "    else: \n",
    "        return norm_score"
   ]
  },
  {
   "cell_type": "code",
   "execution_count": 65,
   "metadata": {},
   "outputs": [],
   "source": [
    "from EM_IRL_utils import calLogLLH_MLIRL\n",
    "\n",
    "def CheckLLHBasedPredResults(traj, real_lab, temp_reward, thres, para): \n",
    "    # Check the normality score\n",
    "    logLLH = calLogLLH_MLIRL(traj, temp_reward, para)\n",
    "    norm_logLLH = NormalizeAList(logLLH)\n",
    "    pred_lab = [0 if norm_logLLH[i] > thres else 1 for i in range(len(norm_logLLH))]\n",
    "    \n",
    "    # Get the predicted scores\n",
    "    prob_lab = NormalizeAList([(thres - i) / thres for i in norm_logLLH])\n",
    "    \n",
    "    _, _ = ModelEvaluate(real_lab, pred_lab, labels_list = np.arange(2), verbo=True)\n",
    "    te_fpr, te_tpr, thresholds = metrics.roc_curve(real_lab, pred_lab) # prob_lab)\n",
    "    te_roc_auc = metrics.auc(te_fpr, te_tpr)\n",
    "    print('AUC: ', te_roc_auc)"
   ]
  },
  {
   "cell_type": "code",
   "execution_count": 73,
   "metadata": {},
   "outputs": [
    {
     "name": "stdout",
     "output_type": "stream",
     "text": [
      "* Validation: \n",
      "Performance Measurements:\n",
      "Confusion matrix: \n",
      " [[145 105]\n",
      " [ 53 402]]\n",
      "Accuracy:  0.775886524822695\n",
      "Recall:  0.77141849482275\n",
      "Precision:  0.775886524822695\n",
      "F-score:  0.7689370601604645\n",
      "AUC:  0.7317582417582418\n",
      "\n",
      "* Testing: \n",
      "Performance Measurements:\n",
      "Confusion matrix: \n",
      " [[ 97 191]\n",
      " [ 35 382]]\n",
      "Accuracy:  0.6794326241134752\n",
      "Recall:  0.6945196647324307\n",
      "Precision:  0.6794326241134752\n",
      "F-score:  0.6451555064321022\n",
      "AUC:  0.6264363509192645\n"
     ]
    }
   ],
   "source": [
    "llh_thres = 0.2\n",
    "print('* Validation: ')\n",
    "CheckLLHBasedPredResults(val_traj, val_lab, temp_reward, llh_thres, para)\n",
    "\n",
    "print('\\n* Testing: ')\n",
    "CheckLLHBasedPredResults(te_traj, te_lab, temp_reward, llh_thres, para)"
   ]
  },
  {
   "cell_type": "code",
   "execution_count": null,
   "metadata": {},
   "outputs": [],
   "source": []
  },
  {
   "cell_type": "markdown",
   "metadata": {},
   "source": [
    "### Use LSTM for state prediction"
   ]
  },
  {
   "cell_type": "code",
   "execution_count": 57,
   "metadata": {},
   "outputs": [],
   "source": [
    "from sklearn import metrics\n",
    "from keras.models import Sequential\n",
    "from keras.preprocessing import sequence\n",
    "from keras.layers import RNN, LSTM, GRU, Dense, Dropout, TimeDistributed, Masking"
   ]
  },
  {
   "cell_type": "code",
   "execution_count": 58,
   "metadata": {},
   "outputs": [],
   "source": [
    "mooc_df.reset_index(inplace=True)\n",
    "\n",
    "# Reshape data as array of trajectories\n",
    "trte_id = np.unique(mooc_df.user_id).tolist()\n",
    "trte_data, trte_lab = [], all_labs\n",
    "sel_feat = ['item_id'] + feat_list \n",
    "for vid in trte_id:\n",
    "    trte_data.append(np.array(mooc_df.loc[mooc_df.user_id == vid][feat_list]))    \n",
    "data_array, lab_array = np.array(trte_data), np.array(trte_lab)\n",
    "    \n",
    "# Truncate the trajectories to the max length\n",
    "_, traj_len = np.unique(mooc_df.user_id, return_counts=True)\n",
    "max_traj_len = int(np.mean(traj_len))\n",
    "trunc_data_array = np.array([data_array[i][:max_traj_len] for i in range(len(trte_data))])\n",
    "\n",
    "train_data, val_data, test_data = trunc_data_array[tr_idx], trunc_data_array[val_idx], trunc_data_array[te_idx]\n",
    "train_y, val_y, test_y = lab_array[tr_idx], lab_array[val_idx], lab_array[te_idx]"
   ]
  },
  {
   "cell_type": "code",
   "execution_count": 59,
   "metadata": {},
   "outputs": [
    {
     "name": "stdout",
     "output_type": "stream",
     "text": [
      "batch_size:  50\n"
     ]
    }
   ],
   "source": [
    "# Pad the data to same length\n",
    "X_train = sequence.pad_sequences(train_data, padding='pre')\n",
    "X_test = sequence.pad_sequences(test_data, padding='pre')\n",
    "\n",
    "if len(val_idx) > 0: \n",
    "    X_val = sequence.pad_sequences(val_data, padding='pre')\n",
    "\n",
    "#---------------------------------------------------------------------------------------------\n",
    "# Set Model parameters\n",
    "data_dim = len(feat_list)\n",
    "timesteps = max_traj_len\n",
    "nb_class = 2\n",
    "batch_size = 50 # math.gcd(math.gcd(len(X_train), len(X_test)), 100)\n",
    "print('batch_size: ', batch_size)\n",
    "nb_epoch = 30\n",
    "class_weight = {0: 1, 1: 1}\n",
    "        \n",
    "# # Model structure\n",
    "# RnnModel = Sequential()\n",
    "# RnnModel.add(LSTM(batch_size, return_sequences=True, batch_input_shape=(batch_size, timesteps, data_dim)))\n",
    "# RnnModel.add(TimeDistributed(Dense(nb_class, activation='softmax')))\n",
    "# RnnModel.compile(loss='binary_crossentropy',\n",
    "#              optimizer='rmsprop')\n",
    "# RnnModel.fit(X_train, Y_train, batch_size=batch_size, nb_epoch=nb_epoch)"
   ]
  },
  {
   "cell_type": "code",
   "execution_count": 60,
   "metadata": {
    "scrolled": true
   },
   "outputs": [
    {
     "name": "stderr",
     "output_type": "stream",
     "text": [
      "c:\\users\\yangx\\anaconda3\\lib\\site-packages\\ipykernel_launcher.py:7: UserWarning: The `nb_epoch` argument in `fit` has been renamed `epochs`.\n",
      "  import sys\n"
     ]
    },
    {
     "name": "stdout",
     "output_type": "stream",
     "text": [
      "Epoch 1/30\n",
      "5637/5637 [==============================] - 8s 1ms/step - loss: 0.6225 - acc: 0.6968\n",
      "Epoch 2/30\n",
      "5637/5637 [==============================] - 8s 1ms/step - loss: 0.5700 - acc: 0.7438\n",
      "Epoch 3/30\n",
      "5637/5637 [==============================] - 8s 1ms/step - loss: 0.5555 - acc: 0.7422\n",
      "Epoch 4/30\n",
      "5637/5637 [==============================] - 9s 2ms/step - loss: 0.5486 - acc: 0.7403\n",
      "Epoch 5/30\n",
      "5637/5637 [==============================] - 9s 2ms/step - loss: 0.5433 - acc: 0.7396\n",
      "Epoch 6/30\n",
      "5637/5637 [==============================] - 9s 2ms/step - loss: 0.5397 - acc: 0.7461\n",
      "Epoch 7/30\n",
      "5637/5637 [==============================] - 9s 2ms/step - loss: 0.5358 - acc: 0.7410\n",
      "Epoch 8/30\n",
      "5637/5637 [==============================] - 9s 2ms/step - loss: 0.5347 - acc: 0.7454\n",
      "Epoch 9/30\n",
      "5637/5637 [==============================] - 9s 2ms/step - loss: 0.5304 - acc: 0.7474\n",
      "Epoch 10/30\n",
      "5637/5637 [==============================] - 9s 2ms/step - loss: 0.5304 - acc: 0.7472\n",
      "Epoch 11/30\n",
      "5637/5637 [==============================] - 9s 2ms/step - loss: 0.5295 - acc: 0.7472\n",
      "Epoch 12/30\n",
      "5637/5637 [==============================] - 9s 2ms/step - loss: 0.5283 - acc: 0.7474\n",
      "Epoch 13/30\n",
      "5637/5637 [==============================] - 9s 2ms/step - loss: 0.5265 - acc: 0.7502\n",
      "Epoch 14/30\n",
      "5637/5637 [==============================] - 9s 2ms/step - loss: 0.5268 - acc: 0.7465\n",
      "Epoch 15/30\n",
      "5637/5637 [==============================] - 9s 2ms/step - loss: 0.5273 - acc: 0.7437\n",
      "Epoch 16/30\n",
      "5637/5637 [==============================] - 9s 2ms/step - loss: 0.5241 - acc: 0.7454\n",
      "Epoch 17/30\n",
      "5637/5637 [==============================] - 9s 2ms/step - loss: 0.5248 - acc: 0.7451\n",
      "Epoch 18/30\n",
      "5637/5637 [==============================] - 9s 2ms/step - loss: 0.5233 - acc: 0.7483\n",
      "Epoch 19/30\n",
      "5637/5637 [==============================] - 9s 2ms/step - loss: 0.5226 - acc: 0.7456\n",
      "Epoch 20/30\n",
      "5637/5637 [==============================] - 9s 2ms/step - loss: 0.5216 - acc: 0.7465\n",
      "Epoch 21/30\n",
      "5637/5637 [==============================] - 9s 2ms/step - loss: 0.5215 - acc: 0.7492\n",
      "Epoch 22/30\n",
      "5637/5637 [==============================] - 9s 2ms/step - loss: 0.5191 - acc: 0.7509\n",
      "Epoch 23/30\n",
      "5637/5637 [==============================] - 9s 2ms/step - loss: 0.5210 - acc: 0.7467\n",
      "Epoch 24/30\n",
      "5637/5637 [==============================] - 9s 2ms/step - loss: 0.5213 - acc: 0.7504\n",
      "Epoch 25/30\n",
      "5637/5637 [==============================] - 9s 2ms/step - loss: 0.5217 - acc: 0.7483\n",
      "Epoch 26/30\n",
      "5637/5637 [==============================] - 9s 2ms/step - loss: 0.5189 - acc: 0.7522\n",
      "Epoch 27/30\n",
      "5637/5637 [==============================] - 9s 2ms/step - loss: 0.5171 - acc: 0.7509\n",
      "Epoch 28/30\n",
      "5637/5637 [==============================] - 9s 2ms/step - loss: 0.5166 - acc: 0.7513\n",
      "Epoch 29/30\n",
      "5637/5637 [==============================] - 9s 2ms/step - loss: 0.5181 - acc: 0.7511\n",
      "Epoch 30/30\n",
      "5637/5637 [==============================] - 9s 2ms/step - loss: 0.5163 - acc: 0.7497\n"
     ]
    },
    {
     "data": {
      "text/plain": [
       "<keras.callbacks.callbacks.History at 0x275e8b6dac8>"
      ]
     },
     "execution_count": 60,
     "metadata": {},
     "output_type": "execute_result"
    }
   ],
   "source": [
    "RnnModel = Sequential()\n",
    "RnnModel.add(Masking(mask_value=0., input_shape=(timesteps, data_dim)))\n",
    "RnnModel.add(LSTM(50))\n",
    "RnnModel.add(Dropout(0.2))\n",
    "RnnModel.add(Dense(1, activation='sigmoid'))\n",
    "RnnModel.compile(loss='binary_crossentropy', optimizer='rmsprop', metrics=['acc'])\n",
    "RnnModel.fit(X_train, train_y.tolist(), batch_size=batch_size, nb_epoch=nb_epoch)"
   ]
  },
  {
   "cell_type": "code",
   "execution_count": 63,
   "metadata": {},
   "outputs": [],
   "source": [
    "## Predict classes and probabilities\n",
    "y_pred = RnnModel.predict_classes(X_test, batch_size=batch_size)\n",
    "y_prob = RnnModel.predict(X_test, batch_size=batch_size)"
   ]
  },
  {
   "cell_type": "code",
   "execution_count": 64,
   "metadata": {},
   "outputs": [
    {
     "name": "stdout",
     "output_type": "stream",
     "text": [
      "Performance Measurements:\n",
      "Confusion matrix: \n",
      " [[115 173]\n",
      " [ 56 361]]\n",
      "Accuracy:  0.675177304964539\n",
      "Recall:  0.6745939076714017\n",
      "Precision:  0.675177304964539\n",
      "F-score:  0.6537595408210491\n",
      "AUC:  0.6863425925925926\n"
     ]
    }
   ],
   "source": [
    "# Evaluate the results\n",
    "_, _ = ModelEvaluate(test_y, y_pred, labels_list = np.arange(2), verbo=True)\n",
    "\n",
    "[fpr, tpr, thresholds] = metrics.roc_curve(test_y, y_prob, pos_label=1)\n",
    "roc_auc = metrics.auc(fpr,tpr)\n",
    "print('AUC: ', roc_auc)"
   ]
  },
  {
   "cell_type": "code",
   "execution_count": null,
   "metadata": {},
   "outputs": [],
   "source": []
  },
  {
   "cell_type": "code",
   "execution_count": null,
   "metadata": {},
   "outputs": [],
   "source": []
  },
  {
   "cell_type": "code",
   "execution_count": null,
   "metadata": {},
   "outputs": [],
   "source": []
  },
  {
   "cell_type": "code",
   "execution_count": null,
   "metadata": {},
   "outputs": [],
   "source": []
  },
  {
   "cell_type": "code",
   "execution_count": null,
   "metadata": {},
   "outputs": [],
   "source": []
  },
  {
   "cell_type": "code",
   "execution_count": null,
   "metadata": {},
   "outputs": [],
   "source": []
  },
  {
   "cell_type": "code",
   "execution_count": null,
   "metadata": {},
   "outputs": [],
   "source": []
  }
 ],
 "metadata": {
  "kernelspec": {
   "display_name": "Python 3",
   "language": "python",
   "name": "python3"
  },
  "language_info": {
   "codemirror_mode": {
    "name": "ipython",
    "version": 3
   },
   "file_extension": ".py",
   "mimetype": "text/x-python",
   "name": "python",
   "nbconvert_exporter": "python",
   "pygments_lexer": "ipython3",
   "version": "3.7.7"
  }
 },
 "nbformat": 4,
 "nbformat_minor": 2
}
